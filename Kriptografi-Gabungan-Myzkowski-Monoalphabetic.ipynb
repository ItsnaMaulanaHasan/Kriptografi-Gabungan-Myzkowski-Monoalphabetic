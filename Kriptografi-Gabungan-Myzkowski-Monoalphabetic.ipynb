{
  "nbformat": 4,
  "nbformat_minor": 0,
  "metadata": {
    "colab": {
      "provenance": []
    },
    "kernelspec": {
      "name": "python3",
      "display_name": "Python 3"
    },
    "language_info": {
      "name": "python"
    }
  },
  "cells": [
    {
      "cell_type": "markdown",
      "source": [
        "**ALGORITMA GABUNGAN MONOALPHABETIC RANDOM + MYSZKOWSKI**"
      ],
      "metadata": {
        "id": "gMKbwmjT_iVX"
      }
    },
    {
      "cell_type": "code",
      "execution_count": null,
      "metadata": {
        "id": "CC54XY1GxkeF"
      },
      "outputs": [],
      "source": [
        "import numpy as np\n",
        "import string\n",
        "import random\n",
        "from collections import Counter"
      ]
    },
    {
      "cell_type": "markdown",
      "source": [
        "1. **numpy** digunakan untuk pemrosesan data numerik dan array multidimensi.\n",
        "2. **string** berisi konstanta-konstanta string, seperti alfabet dalam huruf kecil.\n",
        "3. **random** digunakan untuk menghasilkan angka acak.\n",
        "4. **collections** .**Counter** digunakan untuk menghitung kemunculan elemen dalam sebuah iterable."
      ],
      "metadata": {
        "id": "yKvZfLgez2Uy"
      }
    },
    {
      "cell_type": "code",
      "source": [
        "# Fungsi untuk menghasilkan kunci acak\n",
        "def generate_random_key():\n",
        "    abjad = list(string.ascii_lowercase)\n",
        "    random.shuffle(abjad)\n",
        "    return ''.join(abjad)"
      ],
      "metadata": {
        "id": "CfF21o3Zx9Rr"
      },
      "execution_count": null,
      "outputs": []
    },
    {
      "cell_type": "markdown",
      "source": [
        "\n",
        "Fungsi generate_random_key() adalah fungsi yang digunakan untuk menghasilkan kunci acak dengan langkah-langkah berikut:\n",
        "\n",
        "1. Membuat sebuah list abjad yang berisi semua huruf kecil dalam alfabet menggunakan string.ascii_lowercase.\n",
        "\n",
        "2. Mengacak urutan karakter dalam list abjad menggunakan fungsi shuffle pada variabel **abjad**.\n",
        "\n",
        "3. Menggabungkan karakter-karakter yang telah diacak menjadi sebuah string tunggal menggunakan fungsi join dengan cara **''.join(abjad)**."
      ],
      "metadata": {
        "id": "WkbnVrmr0ht6"
      }
    },
    {
      "cell_type": "code",
      "source": [
        "# Fungsi untuk melakukan enkripsi dengan monoalfabetik\n",
        "def enkripsi_monoalfabetik(plaintext, kunci):\n",
        "    plaintext = plaintext.lower()\n",
        "    abjad = string.ascii_lowercase\n",
        "    mapping = dict(zip(abjad, kunci))\n",
        "    hasil = ''.join(mapping.get(karakter, karakter) for karakter in plaintext)\n",
        "    print(\"Hasil enkripsi Monoalphabetic : \")\n",
        "    for karakter in plaintext:\n",
        "      print(karakter+' => ', end='')\n",
        "      print(mapping.get(karakter, karakter))\n",
        "    return hasil"
      ],
      "metadata": {
        "id": "nDwd3l6AyDKJ"
      },
      "execution_count": null,
      "outputs": []
    },
    {
      "cell_type": "markdown",
      "source": [
        "Fungsi enkripsi_monoalfabetik() adalah fungsi yang digunakan untuk melakukan enkripsi dengan teknik monoalfabetik, dan langkah-langkahnya adalah sebagai berikut:\n",
        "\n",
        "1. Mengubah plaintext menjadi huruf kecil dengan plaintext = plaintext.lower(). Ini dilakukan untuk memastikan kesesuaian antara huruf dalam plaintext dan kunci.\n",
        "\n",
        "2. Membuat variabel abjad yang berisi semua huruf kecil dalam alfabet menggunakan string.ascii_lowercase.\n",
        "\n",
        "3. Membuat sebuah kamus (mapping) yang memetakan setiap karakter dalam abjad ke karakter yang sesuai dalam kunci menggunakan dict(zip(abjad, kunci)). Ini digunakan untuk mengganti karakter-karakter dalam plaintext menjadi karakter-karakter yang dienkripsi.\n",
        "\n",
        "4. Menggunakan loop untuk mengganti setiap karakter dalam plaintext dengan karakter yang sesuai dalam mapping. Jika karakter tidak ada dalam mapping, maka karakter tersebut tetap tidak berubah.\n",
        "\n",
        "5. Mengembalikan hasil enkripsi dalam bentuk string."
      ],
      "metadata": {
        "id": "pjtxo_PO2ozs"
      }
    },
    {
      "cell_type": "code",
      "source": [
        "# Fungsi untuk melakukan dekripsi dengan monoalfabetik\n",
        "def dekripsi_monoalfabetik(ciphertext, kunci):\n",
        "    ciphertext = ciphertext.lower()\n",
        "    abjad = string.ascii_lowercase\n",
        "    reverse_mapping = dict(zip(kunci, abjad))\n",
        "    hasil = ''.join(reverse_mapping.get(karakter, karakter) for karakter in ciphertext)\n",
        "    print(\"Hasil dekripsi Monoalphabetic : \")\n",
        "    for karakter in ciphertext:\n",
        "      print(karakter+' => ', end='')\n",
        "      print(mapping.get(karakter, karakter))\n",
        "    return hasil"
      ],
      "metadata": {
        "id": "uknISEwpyBa0"
      },
      "execution_count": null,
      "outputs": []
    },
    {
      "cell_type": "markdown",
      "source": [
        "Fungsi dekripsi_monoalfabetik() adalah fungsi yang digunakan untuk melakukan dekripsi dengan teknik monoalfabetik, dan langkah-langkahnya adalah sebagai berikut:\n",
        "\n",
        "1. Mengubah ciphertext menjadi huruf kecil dengan ciphertext = ciphertext.lower(). Ini dilakukan untuk memastikan kesesuaian antara huruf dalam ciphertext dan kunci.\n",
        "\n",
        "2. Membuat variabel abjad yang berisi semua huruf kecil dalam alfabet menggunakan string.ascii_lowercase.\n",
        "\n",
        "3. Membuat sebuah kamus (reverse_mapping) yang memetakan setiap karakter dalam kunci ke huruf aslinya dalam abjad menggunakan dict(zip(kunci, abjad)). Ini digunakan untuk mendekripsi karakter-karakter dalam ciphertext.\n",
        "\n",
        "4. Menggunakan loop untuk mengganti setiap karakter dalam ciphertext dengan karakter aslinya menggunakan reverse_mapping. Jika karakter tidak ada dalam reverse_mapping, maka karakter tersebut tetap tidak berubah.\n",
        "\n",
        "5. Mengembalikan hasil dekripsi dalam bentuk string."
      ],
      "metadata": {
        "id": "sUdehRM62DNt"
      }
    },
    {
      "cell_type": "code",
      "source": [
        "# fungsi enkripsi myzkowski\n",
        "def enkripsi_myzkowski(plaintext, kunci):\n",
        "  kunci = list(kunci)\n",
        "  sortkunci = []\n",
        "  sortkunci.append(kunci)\n",
        "  sortkunci.append([])\n",
        "  i = 0\n",
        "  while i < len(kunci):\n",
        "      sortkunci[1].append(i + 1)\n",
        "      i += 1\n",
        "  sortkunci = np.array(sortkunci)\n",
        "  newsortkunci = sortkunci[:, sortkunci[0].argsort()]\n",
        "  sortkunci = newsortkunci.tolist()\n",
        "  sortkunci.append([])\n",
        "  hitung = Counter(sortkunci[0])\n",
        "  i = 0\n",
        "  n = 1\n",
        "  while i < len(kunci):\n",
        "      if hitung[sortkunci[0][i]] > 1:\n",
        "          for j in range(hitung[sortkunci[0][i]]):\n",
        "              sortkunci[2].append(n)\n",
        "          i += (hitung[sortkunci[0][i]] - 1)\n",
        "      else:\n",
        "          sortkunci[2].append(n)\n",
        "      n += 1\n",
        "      i += 1\n",
        "  sortkunci = np.array(sortkunci)\n",
        "  newsortkunci = sortkunci[:, sortkunci[1].argsort()]\n",
        "  print(\"\\nKunci Myszkowski :\\n\" + np.array2string(newsortkunci[2], formatter={'str_kind': lambda x: x}, separator=' ')[1:-1])\n",
        "  enkripsi = []\n",
        "  enkripsi.append(kunci)\n",
        "  for i in range(0, len(plaintext), len(kunci)):\n",
        "      x = plaintext[i:i + len(kunci)]\n",
        "      x = list(x)\n",
        "      enkripsi.append(x)\n",
        "  while len(enkripsi[len(enkripsi) - 1]) < len(kunci):\n",
        "      enkripsi[len(enkripsi) - 1].append(\"#\")\n",
        "  enkripsi = np.array(enkripsi)\n",
        "  print(\" \" + np.array2string(enkripsi[1:len(enkripsi)], formatter={'str_kind': lambda x: x}, separator=' ')[1:-1])\n",
        "  newenkripsi = enkripsi[:, enkripsi[0].argsort()]\n",
        "  hitung = Counter(newenkripsi[0])\n",
        "  hasil = []\n",
        "  i = 0\n",
        "  while i < len(newenkripsi[0]):\n",
        "      if hitung[newenkripsi[0][i]] == 1:\n",
        "          for j in range(1, len(newenkripsi)):\n",
        "              hasil.append(newenkripsi[j][i])\n",
        "      else:\n",
        "          for j in range(1, len(newenkripsi)):\n",
        "              for k in range(i, hitung[newenkripsi[0][i]] + i):\n",
        "                  hasil.append(newenkripsi[j][k])\n",
        "          i += (hitung[newenkripsi[0][i]] - 1)\n",
        "      i += 1\n",
        "  print(\"\\nHasil enkripsi =\", end=' ')\n",
        "  for i in range(len(hasil)):\n",
        "      print(hasil[i], end='')\n",
        "      if (i + 1) % (len(newenkripsi) - 1) == 0:\n",
        "          print(\"\", end='')\n"
      ],
      "metadata": {
        "id": "M4UB6sxxyK45"
      },
      "execution_count": null,
      "outputs": []
    },
    {
      "cell_type": "markdown",
      "source": [
        "Fungsi enkripsi_myzkowski() digunakan untuk melakukan enkripsi dengan teknik Myzkowski, dan langkah-langkahnya adalah sebagai berikut:\n",
        "\n",
        "1. Mengonversi kunci menjadi list karakter kunci = list(kunci) untuk memungkinkan pengolahan.\n",
        "\n",
        "2. Membuat list sortkunci yang berisi kunci, indeks, dan urutan kemunculan masing-masing karakter dalam kunci. Proses ini membantu dalam pengurutan karakter kunci sesuai dengan urutan kemunculannya.\n",
        "\n",
        "3. Menghitung kemunculan karakter dalam kunci menggunakan Counter dan menyimpannya dalam hitung.\n",
        "\n",
        "4. Membuat urutan karakter yang akan digunakan untuk mengenkripsi plaintext, kemudian mengonversinya ke dalam string.\n",
        "\n",
        "5. Membagi plaintext menjadi blok dengan panjang yang sesuai dengan kunci, menambahkan karakter \"#\" jika perlu.\n",
        "\n",
        "6. Mengurutkan blok-blok plaintext berdasarkan urutan karakter kunci.\n",
        "\n",
        "7. enggabungkan hasil pengurutan menjadi sebuah ciphertext yang dihasilkan.\n",
        "\n",
        "8. Mencetak kunci yang digunakan dan hasil enkripsi ciphertext."
      ],
      "metadata": {
        "id": "ezQEjUQ_22OV"
      }
    },
    {
      "cell_type": "code",
      "source": [
        "def dekripsi_myzkowski(ciphertext, kunci):\n",
        "  result = ''\n",
        "  teks = list(ciphertext.upper())\n",
        "  kunci = list(kunci)\n",
        "  sortkunci = []\n",
        "  sortkunci.append(kunci)\n",
        "  sortkunci.append([])\n",
        "  i = 0\n",
        "  while i < len(kunci):\n",
        "      sortkunci[1].append(i + 1)\n",
        "      i += 1\n",
        "  sortkunci = np.array(sortkunci)\n",
        "  newsortkunci = sortkunci[:, sortkunci[0].argsort()]\n",
        "  sortkunci = newsortkunci.tolist()\n",
        "  sortkunci.append([])\n",
        "  hitung = Counter(sortkunci[0])\n",
        "  i = 0\n",
        "  n = 1\n",
        "  while i < len(kunci):\n",
        "      if hitung[sortkunci[0][i]] > 1:\n",
        "          for j in range(hitung[sortkunci[0][i]]):\n",
        "              sortkunci[2].append(n)\n",
        "          i += (hitung[sortkunci[0][i]] - 1)\n",
        "      else:\n",
        "          sortkunci[2].append(n)\n",
        "      n += 1\n",
        "      i += 1\n",
        "  sortkunci = np.array(sortkunci)\n",
        "  newsortkunci = sortkunci[:, sortkunci[1].argsort()]\n",
        "  print(\"\\nKunci Myszkowski :\\n\" + np.array2string(newsortkunci[2], formatter={'str_kind': lambda x: x}, separator=' ')[1:-1])\n",
        "  dekripsi = []\n",
        "  dekripsi.append(kunci)\n",
        "  dekripsi.append([])\n",
        "  i = 0\n",
        "  while i < len(kunci):\n",
        "      dekripsi[1].append(i + 1)\n",
        "      i += 1\n",
        "  dekripsi = np.array(dekripsi)\n",
        "  newdekripsi = dekripsi[:, dekripsi[0].argsort()]\n",
        "  dekripsi = newdekripsi.tolist()\n",
        "  for i in range(int(len(teks) / len(kunci))):\n",
        "      dekripsi.append([])\n",
        "  hitung = Counter(dekripsi[0])\n",
        "  indeks = 0\n",
        "  i = 0\n",
        "  while i < len(kunci):\n",
        "      if hitung[dekripsi[0][i]] > 1:\n",
        "          for k in range(2, int((len(teks) / len(kunci)) + 2)):\n",
        "              for j in range(hitung[dekripsi[0][i]]):\n",
        "                  dekripsi[k].append(teks[indeks])\n",
        "                  indeks += 1\n",
        "          i += (hitung[dekripsi[0][i]] - 1)\n",
        "      else:\n",
        "          for k in range(2, int((len(teks) / len(kunci)) + 2)):\n",
        "              dekripsi[k].append(teks[indeks])\n",
        "              indeks += 1\n",
        "      i += 1\n",
        "  dekripsi = np.array(dekripsi)\n",
        "  hasil = dekripsi[:, dekripsi[1].argsort()]\n",
        "  print(\" \" + np.array2string(hasil[2:len(hasil)], formatter={'str_kind': lambda x: x}, separator=' ')[1:-1])\n",
        "  print(\"\\nHasil dekripsi =\", end=' ')\n",
        "  for i in range(2, len(hasil)):\n",
        "      for j in range(len(hasil[0])):\n",
        "        if hasil[i][j] == '#':\n",
        "          hasil[i][j] = ''\n",
        "        result += hasil[i][j]\n",
        "\n",
        "  return result"
      ],
      "metadata": {
        "id": "TARBsxcLySRG"
      },
      "execution_count": null,
      "outputs": []
    },
    {
      "cell_type": "markdown",
      "source": [
        "Fungsi `dekripsi_myzkowski()` digunakan untuk melakukan dekripsi dengan teknik Myzkowski, dan langkah-langkahnya adalah sebagai berikut:\n",
        "\n",
        "1. Membuat variabel `result` yang akan digunakan untuk mengumpulkan hasil dekripsi.\n",
        "\n",
        "2. Mengubah `ciphertext` menjadi huruf kapital dengan `ciphertext = ciphertext.upper()` untuk memastikan konsistensi huruf.\n",
        "\n",
        "3. Membuat list karakter `teks` dari `ciphertext` dan list karakter `kunci` dari `kunci`.\n",
        "\n",
        "4. Membuat list `sortkunci` yang berisi kunci, indeks, dan urutan kemunculan masing-masing karakter dalam kunci. Ini membantu dalam pengurutan karakter kunci sesuai dengan urutan kemunculannya.\n",
        "\n",
        "5. Menghitung kemunculan karakter dalam kunci menggunakan `Counter` dan menyimpannya dalam `hitung`.\n",
        "\n",
        "6. Membuat urutan karakter yang akan digunakan untuk mendekripsi ciphertext, kemudian mengonversinya ke dalam string.\n",
        "\n",
        "7. Membagi ciphertext menjadi blok dengan panjang yang sesuai dengan kunci.\n",
        "\n",
        "8. Mengurutkan blok-blok ciphertext berdasarkan urutan karakter kunci.\n",
        "\n",
        "9. Menggabungkan hasil pengurutan menjadi plaintext yang telah di-dekripsi.\n",
        "\n",
        "10. Mengembalikan hasil dekripsi dalam bentuk string.\n",
        "\n",
        "Fungsi ini digunakan untuk mendekripsi ciphertext yang telah dienkripsi menggunakan metode Myzkowski dengan kunci yang sesuai. Hasil dekripsi disimpan dalam variabel `result` dan dikembalikan sebagai output fungsi."
      ],
      "metadata": {
        "id": "mk2yA_8q3-Ku"
      }
    },
    {
      "cell_type": "code",
      "source": [
        "def main():\n",
        "    print(\"PROGRAM ENKRIPSI-DEKRIPSI MYSZKOWSKI TRANSPOSITION DAN MONOALFABETIK RANDOM KEY\\n\")\n",
        "\n",
        "    kunci_monoalfabetik = generate_random_key()\n",
        "    print(\"Kunci Monoalfabetic : \" + kunci_monoalfabetik)\n",
        "\n",
        "    kunci_mysz = input(\"Masukkan kunci Myszkowski: \").upper()\n",
        "\n",
        "    while True:\n",
        "        print(\"\\n[MENU]\")\n",
        "        print(\" [1] Enkripsi Plaintext\")\n",
        "        print(\" [2] Dekripsi Chipertext\")\n",
        "\n",
        "        pilih = input(\"Pilih menu: \")\n",
        "\n",
        "        if pilih == \"1\":\n",
        "            teks = input(\"\\nMasukkan teks yang ingin dienkripsi: \")\n",
        "            teks = teks.replace(\" \", \"\")\n",
        "            teks = teks.upper()\n",
        "            teks_enkripsi_mono = enkripsi_monoalfabetik(teks, kunci_monoalfabetik)\n",
        "            enkripsi_myzkowski(teks_enkripsi_mono, kunci_mysz)\n",
        "\n",
        "\n",
        "        elif pilih == \"2\":\n",
        "            teks = input(\"\\nMasukkan teks yang ingin didekripsi: \")\n",
        "            teks = teks.replace(\" \", \"\")\n",
        "            teks = teks.upper()\n",
        "            teks_dekripsi_myzkow = dekripsi_myzkowski(teks, kunci_mysz)\n",
        "            print(dekripsi_monoalfabetik(teks_dekripsi_myzkow, kunci_monoalfabetik))\n",
        "\n",
        "        elif pilih == \"3\":\n",
        "            print(\"Program selesai.\")\n",
        "            break\n",
        "\n",
        "        else:\n",
        "            print(\"[!] Silakan masukkan pilihan yang sesuai.\")\n",
        "\n",
        "\n",
        "if __name__ == \"__main__\":\n",
        "    main()"
      ],
      "metadata": {
        "id": "MrG9Cf4lyV56"
      },
      "execution_count": null,
      "outputs": []
    },
    {
      "cell_type": "markdown",
      "source": [
        "Program di atas adalah program Python untuk melakukan enkripsi dan dekripsi teks menggunakan algoritma gabungan Myszkowski dan Monoalphabetic Random.Untuk enkripsi program akan menggunakan algoritma enkripsi monoalphabetic terlebih dahulu lalu hasil enkripsi tersebut akan dienkrepsi lagi menggunakan algoritma myszkowski.Sedangakan dekripsi, program akan menggunakan algoritma dekripsi myszkowski terlebih dahulu lalu hasil dekripsi tersebut akan dienkrepsi lagi menggunakan algoritma monoalphabetic.\n",
        "\n",
        "1. Generate kunci monoalfabetik secara acak dengan fungsi `generate_random_key()` dan mencetaknya.\n",
        "\n",
        "2. Menerima input kunci Myzkowski dari pengguna.\n",
        "\n",
        "3. Program memasuki loop utama yang menampilkan menu\n",
        "\n",
        "4. Pengguna dapat memilih salah satu opsi dari menu tersebut.\n",
        "\n",
        "5. Jika pengguna memilih opsi 1 (Enkripsi Myzkowski), program meminta pengguna untuk memasukkan teks yang ingin dienkripsi, menghapus spasi dan mengonversi teks ke huruf kapital. Kemudian, program mengenkripsi teks dengan teknik monoalfabetik menggunakan kunci acak dan menyimpan hasilnya. Selanjutnya, program melakukan enkripsi Myzkowski pada teks yang telah dienkripsi menggunakan kunci Myzkowski yang telah diinput.\n",
        "\n",
        "6. Jika pengguna memilih opsi 2 (Dekripsi Myzkowski), program meminta pengguna untuk memasukkan teks yang ingin didekripsi, menghapus spasi dan mengonversi teks ke huruf kapital. Kemudian, program melakukan dekripsi Myzkowski pada teks yang telah diinput menggunakan kunci Myzkowski yang telah diinput. Setelah itu, program melakukan dekripsi monoalfabetik pada teks hasil dekripsi Myzkowski menggunakan kunci acak dan mencetak hasil dekripsi akhir.\n",
        "\n",
        "9. Jika pengguna memilih opsi 3 (Keluar), program keluar dari loop dan program selesai.\n",
        "\n",
        "10. Program memeriksa apakah berjalan sebagai skrip utama dengan menggunakan `if __name__ == \"__main__\":` dan memanggil fungsi `main()` untuk memulai eksekusi program."
      ],
      "metadata": {
        "id": "gmfC3wBf55mE"
      }
    }
  ]
}